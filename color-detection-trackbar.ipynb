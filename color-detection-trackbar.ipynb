{
 "cells": [
  {
   "cell_type": "code",
   "execution_count": 4,
   "id": "3fbd223b-3566-462d-83e1-6f86db198af1",
   "metadata": {},
   "outputs": [],
   "source": [
    "import cv2 as cv\n",
    "import numpy as np\n",
    "\n",
    "def nothing(x):\n",
    "    pass\n",
    "\n",
    "cv.namedWindow('Color Detection')\n",
    "\n",
    "cv.createTrackbar('l_h', 'Color Detection', 0, 255, nothing)\n",
    "cv.createTrackbar('l_s', 'Color Detection', 0, 255, nothing)\n",
    "cv.createTrackbar('l_v', 'Color Detection', 0, 255, nothing)\n",
    "\n",
    "cv.createTrackbar('u_h', 'Color Detection', 255, 255, nothing)\n",
    "cv.createTrackbar('u_s', 'Color Detection', 255, 255, nothing)\n",
    "cv.createTrackbar('u_v', 'Color Detection', 255, 255, nothing)\n",
    "\n",
    "while True:\n",
    "    img = cv.imread('coldec.webp')\n",
    "    img = cv.resize(img, (900,600))\n",
    "    \n",
    "    hsv = cv.cvtColor(img, cv.COLOR_BGR2HSV)\n",
    "    \n",
    "    low_h = cv.getTrackbarPos('l_h', 'Color Detection')\n",
    "    low_s = cv.getTrackbarPos('l_s', 'Color Detection')\n",
    "    low_v = cv.getTrackbarPos('l_v', 'Color Detection')\n",
    "\n",
    "    upr_h = cv.getTrackbarPos('u_h', 'Color Detection')\n",
    "    upr_s = cv.getTrackbarPos('u_s', 'Color Detection')\n",
    "    upr_v = cv.getTrackbarPos('u_v', 'Color Detection')\n",
    "\n",
    "    lower_bound = np.array([low_h, low_s, low_v])\n",
    "    upper_bound = np.array([upr_h, upr_s, upr_v])\n",
    "\n",
    "    mask = cv.inRange(hsv, lower_bound, upper_bound)\n",
    "\n",
    "    res = cv.bitwise_and(img, img,mask=mask)\n",
    "\n",
    "    \n",
    "    cv.imshow('image', img)\n",
    "    cv.imshow('Result', mask)\n",
    "    cv.imshow('Color Detection', res)\n",
    "\n",
    "    if cv.waitKey(2) & 0xff == ord('z'):\n",
    "        break \n",
    "\n",
    "cv.destroyAllWindows()"
   ]
  }
 ],
 "metadata": {
  "kernelspec": {
   "display_name": "Python 3 (ipykernel)",
   "language": "python",
   "name": "python3"
  },
  "language_info": {
   "codemirror_mode": {
    "name": "ipython",
    "version": 3
   },
   "file_extension": ".py",
   "mimetype": "text/x-python",
   "name": "python",
   "nbconvert_exporter": "python",
   "pygments_lexer": "ipython3",
   "version": "3.12.9"
  }
 },
 "nbformat": 4,
 "nbformat_minor": 5
}
